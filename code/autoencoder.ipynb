{
 "cells": [
  {
   "cell_type": "code",
   "execution_count": 490,
   "metadata": {},
   "outputs": [],
   "source": [
    "import numpy as np\n",
    "import matplotlib.pyplot as plt\n",
    "import utils\n",
    "from scipy.special import expit"
   ]
  },
  {
   "cell_type": "code",
   "execution_count": 491,
   "metadata": {},
   "outputs": [],
   "source": [
    "def sigmoid(a):\n",
    "    return expit(a)\n",
    "\n",
    "\n",
    "class nn_autoencoder:\n",
    "    def __init__(self, input_size, hidden_size):\n",
    "\n",
    "        self.W1 = 0.1 * np.random.randn(input_size, hidden_size)\n",
    "        self.W2 = 0.1 * np.random.randn(hidden_size, input_size)\n",
    "\n",
    "    def forward(self, u):\n",
    "        z = np.matmul(u, self.W1)\n",
    "        h = sigmoid(z)\n",
    "        v = np.matmul(h, self.W2)\n",
    "        return v, h, z\n"
   ]
  },
  {
   "cell_type": "code",
   "execution_count": 492,
   "metadata": {},
   "outputs": [],
   "source": [
    "train_size = 60000\n",
    "test_size = 10000\n",
    "\n",
    "data = utils.read_mnist_image(\n",
    "    \"datasets/train-images-idx3-ubyte.gz\",\n",
    "    28,\n",
    "    28,\n",
    "    train_size,\n",
    ") / 255\n",
    "\n",
    "data_test = utils.read_mnist_image(\n",
    "    \"datasets/t10k-images-idx3-ubyte.gz\",\n",
    "    28,\n",
    "    28,\n",
    "    test_size,\n",
    ") / 255"
   ]
  },
  {
   "cell_type": "code",
   "execution_count": 493,
   "metadata": {},
   "outputs": [],
   "source": [
    "#loss function as defined above\n",
    "def loss_mse(preds, targets):\n",
    "    loss = np.sum((preds - targets)**2)\n",
    "    return 0.5 * loss\n",
    "\n",
    "#derivative of loss function with respect to predictions\n",
    "def loss_deriv(preds, targets):\n",
    "    dL_dPred = preds - targets\n",
    "    return dL_dPred"
   ]
  },
  {
   "cell_type": "code",
   "execution_count": 494,
   "metadata": {},
   "outputs": [],
   "source": [
    "#derivative of the sigmoid function\n",
    "def sigmoid_prime(a):\n",
    "    dsigmoid_da = sigmoid(a)*(1-sigmoid(a))\n",
    "    return dsigmoid_da\n",
    "\n",
    "def backprop(W1, W2, dL_dPred, U, H, Z):\n",
    "    dL_dW2 = np.matmul(H.T, dL_dPred)\n",
    "    dL_dH = np.matmul(dL_dPred, W2.T)\n",
    "    dL_dZ = np.multiply(sigmoid_prime(Z), dL_dH)\n",
    "    dL_dW1 = np.matmul(U.T, dL_dZ)\n",
    "    \n",
    "    return dL_dW1, dL_dW2"
   ]
  },
  {
   "cell_type": "code",
   "execution_count": 495,
   "metadata": {},
   "outputs": [],
   "source": [
    "def generate_batch(inputs, targets, batch_size):\n",
    "        assert len(inputs) == len(targets)\n",
    "        rng = np.random.default_rng()\n",
    "        rand_inds = rng.choice(\n",
    "            np.arange(0, len(inputs)), size=batch_size, replace=False\n",
    "        )\n",
    "        inputs_batch = inputs[rand_inds]\n",
    "        targets_batch = targets[rand_inds]\n",
    "        return inputs_batch, targets_batch\n",
    "\n",
    "def train_one_batch(nn, inputs, batch_size, lr):\n",
    "    inputs, targets = generate_batch(inputs, inputs, batch_size)\n",
    "    preds, H, Z = nn.forward(inputs)\n",
    "\n",
    "    loss = loss_mse(preds, inputs)\n",
    "\n",
    "    dL_dPred = loss_deriv(preds, inputs)\n",
    "    dL_dW1, dL_dW2 = backprop(nn.W1, nn.W2, dL_dPred, U=inputs, H=H, Z=Z)\n",
    "\n",
    "    nn.W1 -= lr * dL_dW1\n",
    "    nn.W2 -= lr * dL_dW2\n",
    "    \n",
    "    return loss, preds\n",
    "\n",
    "#test the network on a given dataset\n",
    "def test(nn, dataset):\n",
    "    inputs, targets = generate_batch(dataset, batch_size=200)\n",
    "    preds, H, Z = nn.forward(inputs) \n",
    "    loss = loss_mse(preds, targets)\n",
    "    return loss"
   ]
  },
  {
   "cell_type": "code",
   "execution_count": 496,
   "metadata": {},
   "outputs": [],
   "source": [
    "batch_size = 256 #number of examples per batch\n",
    "nbatches = 6000 #number of batches used for training\n",
    "lr = 0.0005 #learning rate\n",
    "\n",
    "nn = nn_autoencoder(784, 50)\n",
    "\n",
    "losses = [] #training losses to record\n",
    "outputs = []\n",
    "for i in range(nbatches):\n",
    "    loss, preds = train_one_batch(nn, data, batch_size=batch_size, lr=lr)\n",
    "    losses.append(loss / batch_size)\n",
    "    outputs.append(preds[0])"
   ]
  },
  {
   "cell_type": "code",
   "execution_count": 497,
   "metadata": {},
   "outputs": [
    {
     "data": {
      "text/plain": [
       "Text(0, 0.5, 'training MSE')"
      ]
     },
     "execution_count": 497,
     "metadata": {},
     "output_type": "execute_result"
    },
    {
     "data": {
      "image/png": "[encoded data removed]",
      "text/plain": [
       "<Figure size 432x288 with 1 Axes>"
      ]
     },
     "metadata": {
      "needs_background": "light"
     },
     "output_type": "display_data"
    }
   ],
   "source": [
    "plt.plot(np.arange(0, nbatches), losses)\n",
    "plt.xlabel(\"# batches\")\n",
    "plt.ylabel(\"training MSE\")"
   ]
  },
  {
   "cell_type": "code",
   "execution_count": 589,
   "metadata": {},
   "outputs": [
    {
     "data": {
      "text/plain": [
       "<matplotlib.image.AxesImage at 0x7fb6ff765160>"
      ]
     },
     "execution_count": 589,
     "metadata": {},
     "output_type": "execute_result"
    },
    {
     "data": {
      "image/png": "[encoded data removed]",
      "text/plain": [
       "<Figure size 432x288 with 1 Axes>"
      ]
     },
     "metadata": {
      "needs_background": "light"
     },
     "output_type": "display_data"
    }
   ],
   "source": [
    "images = (data[300], data[3000])\n",
    "plt.axis('off')\n",
    "plt.imshow(images[1].reshape(28,28), cmap='gray')"
   ]
  },
  {
   "cell_type": "code",
   "execution_count": 590,
   "metadata": {},
   "outputs": [
    {
     "data": {
      "text/plain": [
       "<matplotlib.image.AxesImage at 0x7fb6ff674910>"
      ]
     },
     "execution_count": 590,
     "metadata": {},
     "output_type": "execute_result"
    },
    {
     "data": {
      "image/png": "[encoded data removed]",
      "text/plain": [
       "<Figure size 432x288 with 1 Axes>"
      ]
     },
     "metadata": {
      "needs_background": "light"
     },
     "output_type": "display_data"
    }
   ],
   "source": [
    "output, h, z = nn.forward(images)\n",
    "plt.axis('off')\n",
    "plt.imshow(output[1].reshape(28,28), cmap='gray')"
   ]
  },
  {
   "cell_type": "code",
   "execution_count": 597,
   "metadata": {},
   "outputs": [
    {
     "data": {
      "text/plain": [
       "<matplotlib.image.AxesImage at 0x7fb7007f2e80>"
      ]
     },
     "execution_count": 597,
     "metadata": {},
     "output_type": "execute_result"
    },
    {
     "data": {
      "image/png": "[encoded data removed]",
      "text/plain": [
       "<Figure size 432x288 with 1 Axes>"
      ]
     },
     "metadata": {
      "needs_background": "light"
     },
     "output_type": "display_data"
    }
   ],
   "source": [
    "plt.axis('off')\n",
    "plt.imshow(h[1].reshape(5, 10), cmap='gray')"
   ]
  }
 ],
 "metadata": {
  "kernelspec": {
   "display_name": "Python 3.9.7 ('base')",
   "language": "python",
   "name": "python3"
  },
  "language_info": {
   "codemirror_mode": {
    "name": "ipython",
    "version": 3
   },
   "file_extension": ".py",
   "mimetype": "text/x-python",
   "name": "python",
   "nbconvert_exporter": "python",
   "pygments_lexer": "ipython3",
   "version": "3.9.7"
  },
  "orig_nbformat": 4,
  "vscode": {
   "interpreter": {
    "hash": "5012c224380e9e16ac3aa776ebb2214372cc19954b6a7a1db6286bea1e08b097"
   }
  }
 },
 "nbformat": 4,
 "nbformat_minor": 2
}
